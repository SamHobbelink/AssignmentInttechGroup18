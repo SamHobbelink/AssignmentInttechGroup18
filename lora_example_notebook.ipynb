{
 "cells": [
  {
   "cell_type": "code",
   "execution_count": 2,
   "id": "4dcb97ba-d244-496f-9428-7d775e723112",
   "metadata": {},
   "outputs": [
    {
     "name": "stdout",
     "output_type": "stream",
     "text": [
      "Requirement already satisfied: websockets in c:\\users\\goomp\\appdata\\local\\programs\\python\\python312\\lib\\site-packages (15.0.1)\n",
      "Note: you may need to restart the kernel to use updated packages.\n"
     ]
    },
    {
     "name": "stderr",
     "output_type": "stream",
     "text": [
      "\n",
      "[notice] A new release of pip is available: 24.3.1 -> 25.1.1\n",
      "[notice] To update, run: python.exe -m pip install --upgrade pip\n"
     ]
    }
   ],
   "source": [
    "%pip install websockets\n",
    "from websockets.sync.client import connect\n",
    "import json"
   ]
  },
  {
   "cell_type": "markdown",
   "id": "70dca36f-a071-4b38-9a9c-169682f2e0b9",
   "metadata": {},
   "source": [
    "In this example we use the websockets library (https://websockets.readthedocs.io/en/stable/)\n",
    "\n",
    "This is a super simple way to receive the websocket data, but feel free to use other methods."
   ]
  },
  {
   "cell_type": "code",
   "execution_count": 3,
   "id": "6a4ad58f-9989-408e-b65a-a39685e0349e",
   "metadata": {},
   "outputs": [],
   "source": [
    "def receive_data():\n",
    "    max_msg = 10 # Feel free to change this or just let it loop forever. Maybe best to keep it low while testing...\n",
    "    with connect(\"ws://192.87.172.71:1337\") as websocket:\n",
    "        count = 0\n",
    "        while count < max_msg:\n",
    "            msg = websocket.recv()\n",
    "            try:\n",
    "                msg = json.loads(msg)\n",
    "                handle_message(msg) # Call function to do the actual data handling\n",
    "            except json.JSONDecodeError:\n",
    "                print(\"Failed to decode json, assuming next packet will be ok...\")\n",
    "                pass\n",
    "            except Exception as e:\n",
    "                # Assume something went wrong and stop receiving\n",
    "                print(\"Something went horribly wrong!\")\n",
    "                print(\"Error:\", e)\n",
    "                break\n",
    "            \n",
    "            count += 1\n",
    "        print(\"Received %d messages!\" % count)"
   ]
  },
  {
   "cell_type": "markdown",
   "id": "c595ef85-74b8-4711-b885-d2ea1c7a9e3b",
   "metadata": {},
   "source": [
    "# 'Packet' format\n",
    "The websocket will give you one entry per packet that was received on a gateway. This packet can have the following fields:\n",
    "\n",
    "- `tmst`: internal timestamp of the receiver, you can ignore this as we have a UTC timetamp\n",
    "- `time`: Timestamp the gateway received the packet\n",
    "- `chan`: lora channel\n",
    "- `rfch`: 'rf chain' used\n",
    "- `freq`: frequency the packet was received on\n",
    "- `stat`: CRC status (if the packet passed the error correction check). I'm, 99% sure we only get 'good' packets so this should always be 1.\n",
    "- `modu`: Moduleation, 'LORA' or 'FSK' (But I think we only get LORA)\n",
    "- `datr`: Spreading factor and bandwidth as a string [https://www.thethingsnetwork.org/docs/lorawan/spreading-factors/]\n",
    "- `codr`: Coding rate [https://www.thethingsnetwork.org/docs/lorawan/fec-and-code-rate/]\n",
    "- `lsnr`: Lora SNR ratio in db [https://www.thethingsnetwork.org/docs/lorawan/rssi-and-snr/]\n",
    "- `rssi`: Signal strength indication at the receiver (gateway) in dBm\n",
    "- `size`: size of the packet in bytes(?)\n",
    "- `gateway`: Address of the gateway, you can compare this to the list of gateway locations.\n",
    "- `device_addr`: The 'short' device address. These might change!\n",
    "- `device_eui`: The actual device address. Note that this will only be included if we know the device!\n",
    "- `device_name`: The device name. Note that this will only be included if we know the device!\n",
    "\n",
    "Note: the same message may be received by multiple gateways, so don't be surprised if you see the same message multiple times. In fact, this is one of the properties you could use to learn more about signal propagation and signal quality."
   ]
  },
  {
   "cell_type": "code",
   "execution_count": 4,
   "id": "863d0371-29d1-490c-a32d-84a9f44f51f1",
   "metadata": {},
   "outputs": [],
   "source": [
    "def handle_message(msg):\n",
    "    print(\"Received packet with rssi: %d.\" % msg['rssi'])\n",
    "    print(msg)\n",
    "    if 'device_eui' in msg:\n",
    "        print(\"This is a known device!\")\n",
    "        print(\"Device name: \", msg['device_name'])\n",
    "    print()"
   ]
  },
  {
   "cell_type": "code",
   "execution_count": 7,
   "id": "75d07836-3805-4106-a38a-e478db688e79",
   "metadata": {},
   "outputs": [
    {
     "name": "stdout",
     "output_type": "stream",
     "text": [
      "Received packet with rssi: -60.\n",
      "{'tmst': 3239324179, 'time': '2025-05-15T10:06:55.631736Z', 'chan': 3, 'freq': 867.1, 'stat': 1, 'modu': 'LORA', 'datr': 'SF7BW125', 'codr': '4/5', 'lsnr': 9.2, 'rssi': -60, 'size': 28, 'gateway': 'a8:40:41:1e:ae:00:41:50', 'device_addr': '260bc456'}\n",
      "\n",
      "Received packet with rssi: -95.\n",
      "{'tmst': 3237194643, 'time': '2025-05-15T10:06:56.983453Z', 'chan': 3, 'freq': 867.1, 'stat': 1, 'modu': 'LORA', 'datr': 'SF7BW125', 'codr': '4/5', 'lsnr': 9.5, 'rssi': -95, 'size': 18, 'gateway': 'a8:40:41:1d:a5:6c:41:50', 'device_addr': 'fe00e85f', 'device_eui': '353131398037830f', 'device_name': 'p190201-2016922'}\n",
      "This is a known device!\n",
      "Device name:  p190201-2016922\n",
      "\n",
      "Received packet with rssi: -75.\n",
      "{'tmst': 3240687155, 'time': '2025-05-15T10:06:56.993294Z', 'chan': 3, 'freq': 867.1, 'stat': 1, 'modu': 'LORA', 'datr': 'SF7BW125', 'codr': '4/5', 'lsnr': 9.2, 'rssi': -75, 'size': 18, 'gateway': 'a8:40:41:1e:ae:00:41:50', 'device_addr': 'fe00e85f', 'device_eui': '353131398037830f', 'device_name': 'p190201-2016922'}\n",
      "This is a known device!\n",
      "Device name:  p190201-2016922\n",
      "\n",
      "Received packet with rssi: -109.\n",
      "{'tmst': 3242310940, 'time': '2025-05-15T10:06:58.623049Z', 'chan': 5, 'freq': 867.5, 'stat': 1, 'modu': 'LORA', 'datr': 'SF7BW125', 'codr': '4/5', 'lsnr': 4.8, 'rssi': -109, 'size': 22, 'gateway': 'a8:40:41:1e:ae:00:41:50', 'device_addr': 'fe00e83a', 'device_eui': '0004a30b001ffe27', 'device_name': 'nighthawk0034'}\n",
      "This is a known device!\n",
      "Device name:  nighthawk0034\n",
      "\n",
      "Received packet with rssi: -96.\n",
      "{'tmst': 3239476875, 'time': '2025-05-15T10:06:59.271302Z', 'chan': 1, 'rfch': 1, 'freq': 868.3, 'stat': 1, 'modu': 'LORA', 'datr': 'SF7BW125', 'codr': '4/5', 'lsnr': 9.8, 'rssi': -96, 'size': 23, 'gateway': 'a8:40:41:1d:a5:6c:41:50', 'device_addr': 'd0041f0e'}\n",
      "\n",
      "Received packet with rssi: -106.\n",
      "{'tmst': 3242969387, 'time': '2025-05-15T10:06:59.280533Z', 'chan': 1, 'rfch': 1, 'freq': 868.3, 'stat': 1, 'modu': 'LORA', 'datr': 'SF7BW125', 'codr': '4/5', 'lsnr': 7, 'rssi': -106, 'size': 23, 'gateway': 'a8:40:41:1e:ae:00:41:50', 'device_addr': 'd0041f0e'}\n",
      "\n",
      "Received packet with rssi: -132.\n",
      "{'tmst': 3239674228, 'time': '2025-05-15T10:06:59.490094Z', 'rfch': 1, 'freq': 868.1, 'stat': 1, 'modu': 'LORA', 'datr': 'SF12BW125', 'codr': '4/5', 'lsnr': -12.8, 'rssi': -132, 'size': 23, 'gateway': 'a8:40:41:1d:a5:6c:41:50', 'device_addr': '30451234'}\n",
      "\n",
      "Received packet with rssi: -81.\n",
      "{'tmst': 3241909827, 'time': '2025-05-15T10:06:59.836506Z', 'chan': 1, 'rfch': 1, 'freq': 868.3, 'stat': 1, 'modu': 'LORA', 'datr': 'SF7BW125', 'codr': '4/5', 'lsnr': 9.8, 'rssi': -81, 'size': 28, 'gateway': 'a8:40:41:1e:e8:90:41:50', 'device_addr': '01bbeaa0', 'device_eui': 'a81758fffe0362b5', 'device_name': 'elsys-a81758fffe0362b5'}\n",
      "This is a known device!\n",
      "Device name:  elsys-a81758fffe0362b5\n",
      "\n",
      "Received packet with rssi: -90.\n",
      "{'tmst': 3241431899, 'time': '2025-05-15T10:07:01.229208Z', 'chan': 2, 'rfch': 1, 'freq': 868.5, 'stat': 1, 'modu': 'LORA', 'datr': 'SF7BW125', 'codr': '4/5', 'lsnr': 7, 'rssi': -90, 'size': 29, 'gateway': 'a8:40:41:1d:a5:6c:41:50', 'device_addr': '01434871', 'device_eui': 'a81758fffe0362ab', 'device_name': 'A81758FFFE0362AB'}\n",
      "This is a known device!\n",
      "Device name:  A81758FFFE0362AB\n",
      "\n",
      "Received packet with rssi: -97.\n",
      "{'tmst': 3244924411, 'time': '2025-05-15T10:07:01.237028Z', 'chan': 2, 'rfch': 1, 'freq': 868.5, 'stat': 1, 'modu': 'LORA', 'datr': 'SF7BW125', 'codr': '4/5', 'lsnr': 7, 'rssi': -97, 'size': 29, 'gateway': 'a8:40:41:1e:ae:00:41:50', 'device_addr': '01434871', 'device_eui': 'a81758fffe0362ab', 'device_name': 'A81758FFFE0362AB'}\n",
      "This is a known device!\n",
      "Device name:  A81758FFFE0362AB\n",
      "\n",
      "Received 10 messages!\n"
     ]
    }
   ],
   "source": [
    "receive_data()"
   ]
  },
  {
   "cell_type": "code",
   "execution_count": null,
   "id": "d9ba686a-0775-42fe-9500-0d0e4c8288f6",
   "metadata": {},
   "outputs": [],
   "source": []
  }
 ],
 "metadata": {
  "kernelspec": {
   "display_name": "Python 3",
   "language": "python",
   "name": "python3"
  },
  "language_info": {
   "codemirror_mode": {
    "name": "ipython",
    "version": 3
   },
   "file_extension": ".py",
   "mimetype": "text/x-python",
   "name": "python",
   "nbconvert_exporter": "python",
   "pygments_lexer": "ipython3",
   "version": "3.12.9"
  }
 },
 "nbformat": 4,
 "nbformat_minor": 5
}
